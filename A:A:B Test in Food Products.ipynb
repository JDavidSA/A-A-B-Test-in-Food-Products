{
 "cells": [
  {
   "cell_type": "markdown",
   "metadata": {},
   "source": [
    "# 1. Data Import – File Description\n",
    "\n",
    "We’ll be working with a dataset containing information about **user behavior or events**, aimed at performing an **A/A/B test** to analyze how users reach the purchase stage.\n",
    "\n",
    "Below is a description of the file contents:\n",
    "\n",
    "**File:** Events (User Behavior)\n",
    "\n",
    "- **EventName:** Name of the event.  \n",
    "- **DeviceIDHash:** Unique user identifier.  \n",
    "- **EventTimestamp:** Event timestamp.  \n",
    "- **ExpId:** Experiment ID. 246 and 247 correspond to control groups (Group A), while 248 represents the test group (Group B).\n"
   ]
  },
  {
   "cell_type": "code",
   "execution_count": 1,
   "metadata": {},
   "outputs": [],
   "source": [
    "# Import the pandas library to read the data files.\n",
    "import pandas as pd\n",
    "\n",
    "events = pd.read_csv('/datasets/logs_exp_us.csv', sep = '\\t')"
   ]
  },
  {
   "cell_type": "markdown",
   "metadata": {},
   "source": [
    "# 2. Data Cleaning\n",
    "\n",
    "We’ll review the data types present in the DataFrame to ensure they match the expected formats.  \n",
    "Additionally, we’ll identify any missing or incorrect values that may require cleaning or correction.\n",
    "\n",
    "The processes to be performed are:\n",
    "1. Check data types and null values.  \n",
    "2. Rename columns to improve data analysis and understanding.  \n",
    "3. Create a new column containing only the date (excluding time).\n"
   ]
  },
  {
   "cell_type": "code",
   "execution_count": 2,
   "metadata": {},
   "outputs": [
    {
     "name": "stdout",
     "output_type": "stream",
     "text": [
      "                 EventName         DeviceIDHash  EventTimestamp  ExpId\n",
      "0         MainScreenAppear  4575588528974610257      1564029816    246\n",
      "1         MainScreenAppear  7416695313311560658      1564053102    246\n",
      "2  PaymentScreenSuccessful  3518123091307005509      1564054127    248\n",
      "3         CartScreenAppear  3518123091307005509      1564054127    248\n",
      "4  PaymentScreenSuccessful  6217807653094995999      1564055322    248\n",
      "\n",
      "<class 'pandas.core.frame.DataFrame'>\n",
      "RangeIndex: 244126 entries, 0 to 244125\n",
      "Data columns (total 4 columns):\n",
      " #   Column          Non-Null Count   Dtype \n",
      "---  ------          --------------   ----- \n",
      " 0   EventName       244126 non-null  object\n",
      " 1   DeviceIDHash    244126 non-null  int64 \n",
      " 2   EventTimestamp  244126 non-null  int64 \n",
      " 3   ExpId           244126 non-null  int64 \n",
      "dtypes: int64(3), object(1)\n",
      "memory usage: 7.5+ MB\n",
      "None\n"
     ]
    }
   ],
   "source": [
    "# Display the first 5 rows of the dataset  \n",
    "print(events.head())\n",
    "print()\n",
    "# Check for null values and data types\n",
    "print(events.info())"
   ]
  },
  {
   "cell_type": "markdown",
   "metadata": {},
   "source": [
    "**Observation:** No null values were identified in the analyzed table, but an improvement was made to the data type of the **'EventTimestamp'** column to properly meet the analysis requirements.\n"
   ]
  },
  {
   "cell_type": "code",
   "execution_count": 3,
   "metadata": {},
   "outputs": [
    {
     "name": "stdout",
     "output_type": "stream",
     "text": [
      "                 EventName         DeviceIDHash      EventTimestamp  ExpId\n",
      "0         MainScreenAppear  4575588528974610257 2019-07-25 04:43:36    246\n",
      "1         MainScreenAppear  7416695313311560658 2019-07-25 11:11:42    246\n",
      "2  PaymentScreenSuccessful  3518123091307005509 2019-07-25 11:28:47    248\n",
      "3         CartScreenAppear  3518123091307005509 2019-07-25 11:28:47    248\n",
      "4  PaymentScreenSuccessful  6217807653094995999 2019-07-25 11:48:42    248\n",
      "\n",
      "<class 'pandas.core.frame.DataFrame'>\n",
      "RangeIndex: 244126 entries, 0 to 244125\n",
      "Data columns (total 4 columns):\n",
      " #   Column          Non-Null Count   Dtype         \n",
      "---  ------          --------------   -----         \n",
      " 0   EventName       244126 non-null  object        \n",
      " 1   DeviceIDHash    244126 non-null  int64         \n",
      " 2   EventTimestamp  244126 non-null  datetime64[ns]\n",
      " 3   ExpId           244126 non-null  int64         \n",
      "dtypes: datetime64[ns](1), int64(2), object(1)\n",
      "memory usage: 7.5+ MB\n",
      "None\n"
     ]
    }
   ],
   "source": [
    "# Change the data type of the 'EventTimestamp' column  \n",
    "events['EventTimestamp'] = pd.to_datetime(events['EventTimestamp'], unit='s')\n",
    "\n",
    "# Display the first 5 rows of the dataset  \n",
    "print(events.head())\n",
    "print()\n",
    "# Verify the data types\n",
    "print(events.info())"
   ]
  },
  {
   "cell_type": "markdown",
   "metadata": {},
   "source": [
    "**Observation:** All data types are consistent with the requirements of the analysis to be performed later.\n",
    "\n",
    "## 2.2 Renaming the columns"
   ]
  },
  {
   "cell_type": "code",
   "execution_count": 4,
   "metadata": {},
   "outputs": [
    {
     "name": "stdout",
     "output_type": "stream",
     "text": [
      "                event_name              user_id          time_event  groups\n",
      "0         MainScreenAppear  4575588528974610257 2019-07-25 04:43:36     246\n",
      "1         MainScreenAppear  7416695313311560658 2019-07-25 11:11:42     246\n",
      "2  PaymentScreenSuccessful  3518123091307005509 2019-07-25 11:28:47     248\n",
      "3         CartScreenAppear  3518123091307005509 2019-07-25 11:28:47     248\n",
      "4  PaymentScreenSuccessful  6217807653094995999 2019-07-25 11:48:42     248\n"
     ]
    }
   ],
   "source": [
    "# Rename all column names  \n",
    "events = events.rename(columns={\n",
    "    'EventName': 'event_name',\n",
    "    'DeviceIDHash': 'user_id',\n",
    "    'EventTimestamp': 'time_event',\n",
    "    'ExpId': 'groups'\n",
    "})\n",
    "\n",
    "# Display the changes\n",
    "print(events.head())"
   ]
  },
  {
   "cell_type": "markdown",
   "metadata": {},
   "source": [
    "## 2.3 Add the date-only column  "
   ]
  },
  {
   "cell_type": "code",
   "execution_count": 5,
   "metadata": {},
   "outputs": [
    {
     "name": "stdout",
     "output_type": "stream",
     "text": [
      "                event_name              user_id          time_event  groups  \\\n",
      "0         MainScreenAppear  4575588528974610257 2019-07-25 04:43:36     246   \n",
      "1         MainScreenAppear  7416695313311560658 2019-07-25 11:11:42     246   \n",
      "2  PaymentScreenSuccessful  3518123091307005509 2019-07-25 11:28:47     248   \n",
      "3         CartScreenAppear  3518123091307005509 2019-07-25 11:28:47     248   \n",
      "4  PaymentScreenSuccessful  6217807653094995999 2019-07-25 11:48:42     248   \n",
      "\n",
      "   date_event  \n",
      "0  2019-07-25  \n",
      "1  2019-07-25  \n",
      "2  2019-07-25  \n",
      "3  2019-07-25  \n",
      "4  2019-07-25  \n"
     ]
    }
   ],
   "source": [
    "# Create the 'date_event' column to store only the dates  \n",
    "events['date_event'] = events['time_event'].dt.date\n",
    "# Display the final table\n",
    "print(events.head())"
   ]
  },
  {
   "cell_type": "markdown",
   "metadata": {},
   "source": [
    "**Conclusions:**\n",
    "\n",
    "We have transformed the data to make it easier to analyze:\n",
    "* Converted the timestamp field (**EventTimestamp**) into a readable date-time format (**time_event**).  \n",
    "* Standardized column names to **snake_case**, improving consistency and making further analysis easier.  \n",
    "* Created a new column (**date_event**) containing only the date, useful for daily aggregated analysis.\n",
    "\n",
    "With these transformations, the dataset is now cleaner, more structured, and ready for exploratory analysis.\n",
    "\n",
    "# 3. Data Verification\n",
    "\n",
    "## 3.1 How many events are recorded in the dataset?\n"
   ]
  },
  {
   "cell_type": "code",
   "execution_count": 6,
   "metadata": {},
   "outputs": [
    {
     "name": "stdout",
     "output_type": "stream",
     "text": [
      "There are: 5 events\n",
      "MainScreenAppear           119205\n",
      "OffersScreenAppear          46825\n",
      "CartScreenAppear            42731\n",
      "PaymentScreenSuccessful     34313\n",
      "Tutorial                     1052\n",
      "Total                      244126\n",
      "Name: event_name, dtype: int64\n"
     ]
    }
   ],
   "source": [
    "# Identify how many unique events exist  \n",
    "unique_event = events['event_name'].nunique()\n",
    "\n",
    "# Count the number of records per event \n",
    "count_events = events['event_name'].value_counts()\n",
    "\n",
    "# Calculate the total number of records by event  \n",
    "total_start = count_events.sum()\n",
    "count_events['Total'] = count_events.sum()\n",
    "\n",
    "print(f'There are: {unique_event} events')\n",
    "print(count_events)"
   ]
  },
  {
   "cell_type": "markdown",
   "metadata": {},
   "source": [
    "## 3.2 How many users are recorded in the dataset?\n"
   ]
  },
  {
   "cell_type": "code",
   "execution_count": 7,
   "metadata": {},
   "outputs": [
    {
     "name": "stdout",
     "output_type": "stream",
     "text": [
      "There are: 7551 users\n"
     ]
    }
   ],
   "source": [
    "# Count and identify the number of users  \n",
    "start_user = events['user_id'].nunique()\n",
    "count_user = events['user_id'].nunique()\n",
    "\n",
    "print(f'There are: {count_user} users')"
   ]
  },
  {
   "cell_type": "markdown",
   "metadata": {},
   "source": [
    "## 3.3 What is the average number of events per user?  "
   ]
  },
  {
   "cell_type": "code",
   "execution_count": 8,
   "metadata": {},
   "outputs": [
    {
     "name": "stdout",
     "output_type": "stream",
     "text": [
      "Average events per user: 32.33\n"
     ]
    }
   ],
   "source": [
    "# Calculate the total number of events  \n",
    "total_events = events.shape[0]\n",
    "\n",
    "# Compute the average number of events per user \n",
    "media_events = total_events / count_user\n",
    "\n",
    "print(\"Average events per user:\", round(media_events,2))"
   ]
  },
  {
   "cell_type": "markdown",
   "metadata": {},
   "source": [
    "## 3.4 What time period does the data cover?"
   ]
  },
  {
   "cell_type": "code",
   "execution_count": 9,
   "metadata": {},
   "outputs": [
    {
     "name": "stdout",
     "output_type": "stream",
     "text": [
      "Fecha mínima: 2019-07-25\n",
      "Fecha máxima: 2019-08-07\n"
     ]
    },
    {
     "data": {
      "image/png": "[encoded data removed]",
      "text/plain": [
       "<Figure size 1200x500 with 1 Axes>"
      ]
     },
     "metadata": {},
     "output_type": "display_data"
    }
   ],
   "source": [
    "# Calculate the minimum and maximum dates  \n",
    "date_min = events['date_event'].min()\n",
    "date_max = events['date_event'].max()\n",
    "\n",
    "print(\"Fecha mínima:\", date_min)\n",
    "print(\"Fecha máxima:\", date_max)\n",
    "\n",
    "# Import the matplotlib library for visualization \n",
    "import matplotlib.pyplot as plt\n",
    "\n",
    "# Count the number of events per date  \n",
    "count_date = events['date_event'].value_counts().sort_index()\n",
    "\n",
    "# Plot a histogram of events by date \n",
    "plt.figure(figsize=(12,5))\n",
    "plt.hist(events['date_event'], bins=15, edgecolor=\"black\")\n",
    "plt.title(\"Histogram of events by date\")\n",
    "plt.xlabel(\"Date\")\n",
    "plt.ylabel(\"Number of events\")\n",
    "plt.xticks(rotation=45)\n",
    "plt.tight_layout()\n",
    "plt.show()"
   ]
  },
  {
   "cell_type": "code",
   "execution_count": 10,
   "metadata": {},
   "outputs": [
    {
     "name": "stdout",
     "output_type": "stream",
     "text": [
      "Truly representative period: 2019-08-01  →  2019-08-07\n"
     ]
    },
    {
     "data": {
      "image/png": "[encoded data removed]",
      "text/plain": [
       "<Figure size 1200x500 with 1 Axes>"
      ]
     },
     "metadata": {},
     "output_type": "display_data"
    }
   ],
   "source": [
    "# Calculate the threshold (50th percentile) \n",
    "umbral = count_date.quantile(0.5)\n",
    "\n",
    "# Identify the \"complete\" dates\n",
    "real_date = count_date[count_date >= umbral]\n",
    "real_min_date = real_date.index.min()\n",
    "real_max_date = real_date.index.max()\n",
    "\n",
    "print(\"Truly representative period:\", real_min_date, \" → \", real_max_date)\n",
    "\n",
    "# Plot the histogram of events by hour of the day  \n",
    "plt.figure(figsize=(12,5))\n",
    "plt.hist(events['time_event'].dt.hour, bins=24, range=(0,24), edgecolor=\"black\")\n",
    "plt.title(\"Histogram of events by hour of the day\")\n",
    "plt.xlabel(\"Hour\")\n",
    "plt.ylabel(\"Number of events\")\n",
    "plt.xticks(range(0,24))\n",
    "plt.tight_layout()\n",
    "plt.show()"
   ]
  },
  {
   "cell_type": "markdown",
   "metadata": {},
   "source": [
    "## 3.5 Loss of Events and Users  \n",
    "\n",
    "First, we will remove the records from the DataFrame with dates earlier than **'2019-08-01'** (excluding this date) in order to determine the amount of data loss and improve the accuracy of subsequent analyses."
   ]
  },
  {
   "cell_type": "code",
   "execution_count": 11,
   "metadata": {},
   "outputs": [
    {
     "name": "stdout",
     "output_type": "stream",
     "text": [
      "Start date:  2019-08-01\n",
      "End date:  2019-08-07\n",
      "\n",
      "MainScreenAppear           117431\n",
      "OffersScreenAppear          46350\n",
      "CartScreenAppear            42365\n",
      "PaymentScreenSuccessful     34113\n",
      "Tutorial                     1039\n",
      "Total                      241298\n",
      "Name: event_name, dtype: int64\n",
      "\n",
      "A total of 1.16% of events were lost, equivalent to 2828 events out of the 244126 initial events.\n"
     ]
    }
   ],
   "source": [
    "# Identify the reference date  \n",
    "fecha_inicio = pd.to_datetime(\"2019-08-01\").date()\n",
    "\n",
    "# Filter the records\n",
    "events = events[events['date_event'] >= fecha_inicio]\n",
    "\n",
    "# Verify the modification  \n",
    "print('Start date: ', events['date_event'].min())\n",
    "print('End date: ', events['date_event'].max())\n",
    "print()\n",
    "\n",
    "# Count the current number of records by event  \n",
    "count_events = events['event_name'].value_counts()\n",
    "\n",
    "# Calculate the updated total number of records by event\n",
    "total_end = count_events.sum()\n",
    "count_events['Total'] = count_events.sum()\n",
    "\n",
    "print(count_events)\n",
    "print()\n",
    "\n",
    "# Calculate the percentage of data loss\n",
    "lost_percent_event = ((total_start - total_end)/total_start)*100\n",
    "\n",
    "# Calculate the number of lost events\n",
    "lost_amount_event = total_start - total_end\n",
    "\n",
    "print(f'A total of {round(lost_percent_event,2)}% of events were lost, equivalent to {lost_amount_event} events out of the {total_start} initial events.')"
   ]
  },
  {
   "cell_type": "code",
   "execution_count": 12,
   "metadata": {},
   "outputs": [
    {
     "name": "stdout",
     "output_type": "stream",
     "text": [
      "A total of 0.23% of users were lost, equivalent to 17 users out of the 7551 initial users.\n"
     ]
    }
   ],
   "source": [
    "# Count and identify the number of users\n",
    "end_user = events['user_id'].nunique()\n",
    "count_user = events['user_id'].nunique()\n",
    "\n",
    "# Count and identify the number of users\n",
    "lost_percent_user = ((start_user - end_user)/start_user)*100\n",
    "# Calculate the number of lost users\n",
    "lost_amount_user = start_user - end_user\n",
    "\n",
    "print(f'A total of {round(lost_percent_user,2)}% of users were lost, equivalent to {lost_amount_user} users out of the {start_user} initial users.')"
   ]
  },
  {
   "cell_type": "markdown",
   "metadata": {},
   "source": [
    "**Conclusions:**  \n",
    "The exclusion of older data outside the relevant date range did not result in a significant loss for the analysis.  \n",
    "Only **1.16% of events** (equivalent to 2,828 records) and **0.23% of users** (corresponding to 17 users) were removed — values that do not have a meaningful impact on the integrity or representativeness of the dataset."
   ]
  },
  {
   "cell_type": "markdown",
   "metadata": {},
   "source": [
    "# 3.6 Users in the Experimental Groups"
   ]
  },
  {
   "cell_type": "code",
   "execution_count": 13,
   "metadata": {},
   "outputs": [
    {
     "name": "stdout",
     "output_type": "stream",
     "text": [
      "Unique users by group:\n",
      "groups\n",
      "246    2484\n",
      "247    2513\n",
      "248    2537\n",
      "Name: user_id, dtype: int64\n"
     ]
    }
   ],
   "source": [
    "# Calculate the unique users per group \n",
    "user_by_group = events.groupby('groups')['user_id'].nunique()\n",
    "\n",
    "print(f'Unique users by group:')\n",
    "print(user_by_group)"
   ]
  },
  {
   "cell_type": "markdown",
   "metadata": {},
   "source": [
    "**Observation:** It was verified that all experimental groups contain users.\n",
    "\n",
    "# 4. Event Funnel\n",
    "\n",
    "In this stage, several event-related data will be filtered, and analyses will be performed for each event.\n",
    "\n",
    "## 4.1 Event Frequency"
   ]
  },
  {
   "cell_type": "code",
   "execution_count": 14,
   "metadata": {},
   "outputs": [
    {
     "name": "stdout",
     "output_type": "stream",
     "text": [
      "                event_name   count\n",
      "0         MainScreenAppear  117431\n",
      "1       OffersScreenAppear   46350\n",
      "2         CartScreenAppear   42365\n",
      "3  PaymentScreenSuccessful   34113\n",
      "4                 Tutorial    1039\n",
      "5                    Total  241298\n"
     ]
    }
   ],
   "source": [
    "# Reset the indexes \n",
    "count_events = count_events.reset_index()\n",
    "\n",
    "# Rename columns for better clarity\n",
    "count_events.columns = ['event_name', 'count']\n",
    "\n",
    "print(count_events)"
   ]
  },
  {
   "cell_type": "markdown",
   "metadata": {},
   "source": [
    "## 4.2 Proportion of Users vs. Events"
   ]
  },
  {
   "cell_type": "code",
   "execution_count": 15,
   "metadata": {},
   "outputs": [
    {
     "name": "stdout",
     "output_type": "stream",
     "text": [
      "                event_name  unique_users  proportion\n",
      "1         MainScreenAppear          7419        0.98\n",
      "2       OffersScreenAppear          4593        0.61\n",
      "0         CartScreenAppear          3734        0.50\n",
      "3  PaymentScreenSuccessful          3539        0.47\n",
      "4                 Tutorial           840        0.11\n"
     ]
    }
   ],
   "source": [
    "# Identify unique users by event type\n",
    "user_by_event = events.groupby('event_name')['user_id'].nunique().reset_index()\n",
    "\n",
    "# Rename columns for better clarity\n",
    "user_by_event.columns = ['event_name', 'unique_users']\n",
    "\n",
    "# Calculate the proportion of users per event\n",
    "user_by_event['proportion'] = (user_by_event['unique_users']/count_user).round(2)\n",
    "\n",
    "# Sort events by the number of users\n",
    "user_by_event = user_by_event.sort_values(by='unique_users', ascending = False)\n",
    "\n",
    "print(user_by_event)"
   ]
  },
  {
   "cell_type": "markdown",
   "metadata": {},
   "source": [
    "## 4.3 Event Sequence\n",
    "\n",
    "I consider that the order of the events is as follows:\n",
    "1. MainScreenAppear  \n",
    "2. OffersScreenAppear  \n",
    "3. CartScreenAppear  \n",
    "4. PaymentScreenSuccessful  \n",
    "\n",
    "The observed events correspond to the typical sequence followed by an average user when completing a successful purchase within the application.  \n",
    "However, not all users go through every step of this flow.  \n",
    "\n",
    "Additionally, the **“Tutorial”** event does not seem to be part of the main user journey; instead, it behaves as an optional and independent action, given the low level of user interaction with it.\n",
    "\n",
    "## 4.4 Proportion of Users from One Stage to Another"
   ]
  },
  {
   "cell_type": "code",
   "execution_count": 16,
   "metadata": {},
   "outputs": [
    {
     "name": "stdout",
     "output_type": "stream",
     "text": [
      "                event_name  unique_users  conversion_events\n",
      "1         MainScreenAppear          7419                NaN\n",
      "2       OffersScreenAppear          4593               0.62\n",
      "0         CartScreenAppear          3734               0.81\n",
      "3  PaymentScreenSuccessful          3539               0.95\n"
     ]
    }
   ],
   "source": [
    "# Filter only the events from the main sequence \n",
    "user_by_event = user_by_event[user_by_event['event_name'] != 'Tutorial']\n",
    "\n",
    "# Calculate the proportions between each consecutive event\n",
    "user_by_event['conversion_events'] = (user_by_event['unique_users'] / user_by_event['unique_users'].shift(1)).round(2)\n",
    "\n",
    "print(user_by_event[['event_name','unique_users','conversion_events']])"
   ]
  },
  {
   "cell_type": "markdown",
   "metadata": {},
   "source": [
    "**Observations:**  \n",
    "The first row appears as *NaN* because it has no previous step, while the others show the proportion of users advancing from one stage to the next.\n",
    "\n",
    "**Conclusions:**  \n",
    "The largest drop occurs between **MainScreen** and **OffersScreen** (**38% loss**). From that point onward, conversion rates are high — most users who view offers proceed to the cart, and nearly all who enter the cart complete the payment.\n",
    "\n",
    "On a positive note, the main flow is well optimized in its final stages, but there’s an opportunity for improvement in getting more users to move from the initial screen to the offers screen.\n",
    "\n",
    "## 4.5 Percentage of Users Who Complete the Sequence"
   ]
  },
  {
   "cell_type": "code",
   "execution_count": 17,
   "metadata": {},
   "outputs": [
    {
     "name": "stdout",
     "output_type": "stream",
     "text": [
      "The percentage of users who completed the entire sequence is: 47.7 %\n"
     ]
    }
   ],
   "source": [
    "# Filter users from the first and last events in the sequence\n",
    "start_users = user_by_event.loc[user_by_event['event_name'] == 'MainScreenAppear', 'unique_users'].values[0]\n",
    "finish_users = user_by_event.loc[user_by_event['event_name'] == 'PaymentScreenSuccessful', 'unique_users'].values[0]\n",
    "\n",
    "# Calculate the percentage of users who completed the sequence\n",
    "sequence_completed = round((finish_users / start_users) * 100, 2)\n",
    "\n",
    "print(\"The percentage of users who completed the entire sequence is:\", sequence_completed, \"%\")"
   ]
  },
  {
   "cell_type": "markdown",
   "metadata": {},
   "source": [
    "# 5. Experiment Results\n",
    "\n",
    "## 5.1 Users per Group"
   ]
  },
  {
   "cell_type": "code",
   "execution_count": 18,
   "metadata": {},
   "outputs": [
    {
     "name": "stdout",
     "output_type": "stream",
     "text": [
      "groups\n",
      "246    2484\n",
      "247    2513\n",
      "248    2537\n",
      "Name: user_id, dtype: int64\n"
     ]
    }
   ],
   "source": [
    "print(user_by_group)"
   ]
  },
  {
   "cell_type": "markdown",
   "metadata": {},
   "source": [
    "**Observations:**  \n",
    "Group 246 (A) has a total of **2,484 unique users**, group 247 (A) has **2,513 unique users**, and finally, group 248 (B) has **2,537 unique users**.\n",
    "\n",
    "## 5.2 Statistical Difference – A/A Test"
   ]
  },
  {
   "cell_type": "code",
   "execution_count": 19,
   "metadata": {},
   "outputs": [
    {
     "name": "stdout",
     "output_type": "stream",
     "text": [
      "t-statistic: 0.0\n",
      "p-value: 1.0\n",
      "There is no significant difference, which is the expected outcome in an A/A test.\n"
     ]
    }
   ],
   "source": [
    "# Filter the data for each group \n",
    "group_246 = events[events['groups'] == 246]\n",
    "group_247 = events[events['groups'] == 247]\n",
    "\n",
    "# Count the number of events per user in each group\n",
    "events_246 = group_246.groupby('user_id')['event_name'].count()\n",
    "events_247 = group_246.groupby('user_id')['event_name'].count()\n",
    "\n",
    "# Import the scipy library for statistical calculations\n",
    "from scipy import stats\n",
    "\n",
    "# Define the significance level\n",
    "alpha = 0.05\n",
    "\n",
    "# Calculate the t-test and p-value\n",
    "t_stat, p_value = stats.ttest_ind(events_246, events_247, equal_var=False)\n",
    "\n",
    "print(\"t-statistic:\", t_stat)\n",
    "print(\"p-value:\", p_value)\n",
    "\n",
    "if (p_value < alpha):\n",
    "    print(\"There is a statistically significant difference between the groups.\")\n",
    "else:\n",
    "    print(\"There is no significant difference, which is the expected outcome in an A/A test.\")"
   ]
  },
  {
   "cell_type": "markdown",
   "metadata": {},
   "source": [
    "**Observations:**  \n",
    "This confirms that the experiment is well-designed, and we can trust that the assignment and measurement mechanisms are working correctly.\n",
    "\n",
    "## 5.3 Most Popular Event"
   ]
  },
  {
   "cell_type": "code",
   "execution_count": 20,
   "metadata": {},
   "outputs": [
    {
     "name": "stdout",
     "output_type": "stream",
     "text": [
      "The most popular event is: MainScreenAppear\n"
     ]
    }
   ],
   "source": [
    "# Identify the most popular event \n",
    "popular_event = events['event_name'].value_counts().idxmax()\n",
    "print(\"The most popular event is:\", popular_event)\n",
    "\n",
    "# Import the proportions_ztest library \n",
    "from statsmodels.stats.proportion import proportions_ztest\n",
    "\n",
    "# Create a custom function\n",
    "def comparison_events(evento, df):\n",
    "    \n",
    "    # Filter users by group and event\n",
    "    g246 = df[(df['groups'] == 246) & (df['event_name'] == evento)]['user_id'].nunique()\n",
    "    g247 = df[(df['groups'] == 247) & (df['event_name'] == evento)]['user_id'].nunique()\n",
    "    \n",
    "    # Calculate the total number of users per group \n",
    "    total246 = df[df['groups'] == 246]['user_id'].nunique()\n",
    "    total247 = df[df['groups'] == 247]['user_id'].nunique()\n",
    "    \n",
    "    # Calculate the proportions \n",
    "    prop246 = g246 / total246\n",
    "    prop247 = g247 / total247\n",
    "    \n",
    "    # Perform the statistical test for difference in proportions (z-test)\n",
    "    count = [g246, g247]\n",
    "    nobs = [total246, total247]\n",
    "    stat, pval = proportions_ztest(count, nobs)\n",
    "\n",
    "    # Define the output of the custom function\n",
    "    return {\n",
    "        \"evento\": evento,\n",
    "        \"usuarios_246\": g246,\n",
    "        \"usuarios_247\": g247,\n",
    "        \"proporcion_246\": round(prop246, 2),\n",
    "        \"proporcion_247\": round(prop247, 2),\n",
    "        \"p_value\": round(pval, 2)\n",
    "    }"
   ]
  },
  {
   "cell_type": "code",
   "execution_count": 21,
   "metadata": {},
   "outputs": [
    {
     "name": "stdout",
     "output_type": "stream",
     "text": [
      "                    evento  usuarios_246  usuarios_247  proporcion_246  \\\n",
      "0                 Tutorial           278           283            0.11   \n",
      "1         MainScreenAppear          2450          2476            0.99   \n",
      "2       OffersScreenAppear          1542          1520            0.62   \n",
      "3         CartScreenAppear          1266          1238            0.51   \n",
      "4  PaymentScreenSuccessful          1200          1158            0.48   \n",
      "\n",
      "   proporcion_247  p_value  \n",
      "0            0.11     0.94  \n",
      "1            0.99     0.76  \n",
      "2            0.60     0.25  \n",
      "3            0.49     0.23  \n",
      "4            0.46     0.11  \n"
     ]
    }
   ],
   "source": [
    "resultados = [comparison_events(e, events) for e in events['event_name'].unique()]\n",
    "df_resultados = pd.DataFrame(resultados)\n",
    "\n",
    "print(df_resultados)"
   ]
  },
  {
   "cell_type": "markdown",
   "metadata": {},
   "source": [
    "**Observations:**  \n",
    "\n",
    "The most popular event is: **MainScreenAppear**  \n",
    "\n",
    "Since all the *p_values* for each event are greater than 0.05 (significance level), it can be determined that there is **no significant difference** between groups 246 and 247.  \n",
    "This indicates that the groups are **well balanced and properly divided**.\n",
    "\n",
    "## 5.4 A/B and A/A/B Test"
   ]
  },
  {
   "cell_type": "code",
   "execution_count": 22,
   "metadata": {},
   "outputs": [],
   "source": [
    "# Prepare the groups by creating an auxiliary column \n",
    "events['group_combined'] = events['groups'].replace({246: 'control', 247: 'control', 248: 'test'})\n",
    "\n",
    "# Create a new custom function \n",
    "def comparison_test_vs_control(evento, df):\n",
    "    resultados = []\n",
    "\n",
    "    # Filter the data by group\n",
    "    total_246 = df[df['groups'] == 246]['user_id'].nunique()\n",
    "    total_247 = df[df['groups'] == 247]['user_id'].nunique()\n",
    "    total_248 = df[df['groups'] == 248]['user_id'].nunique()\n",
    "    total_control = df[df['groups'].isin([246, 247])]['user_id'].nunique()\n",
    "    \n",
    "    users_246 = df[(df['groups'] == 246) & (df['event_name'] == evento)]['user_id'].nunique()\n",
    "    users_247 = df[(df['groups'] == 247) & (df['event_name'] == evento)]['user_id'].nunique()\n",
    "    users_248 = df[(df['groups'] == 248) & (df['event_name'] == evento)]['user_id'].nunique()\n",
    "    users_control = df[(df['groups'].isin([246, 247])) & (df['event_name'] == evento)]['user_id'].nunique()\n",
    "    \n",
    "    # Compare test vs. control 246 (A/B)\n",
    "    stat1, pval1 = proportions_ztest([users_248, users_246], [total_248, total_246])\n",
    "    # Compare test vs. control 247 (A/B)\n",
    "    stat2, pval2 = proportions_ztest([users_248, users_247], [total_248, total_247])\n",
    "    # Compare test vs. combined controls (A/A/B)\n",
    "    stat3, pval3 = proportions_ztest([users_248, users_control], [total_248, total_control])\n",
    "\n",
    "    resultados.append({\n",
    "        \"evento\": evento,\n",
    "        \"proporcion_246\": round(users_246 / total_246, 2),\n",
    "        \"proporcion_247\": round(users_247 / total_247, 2),\n",
    "        \"proporcion_248\": round(users_248 / total_248, 2),\n",
    "        \"pval_vs_246\": round(pval1, 2),\n",
    "        \"pval_vs_247\": round(pval2, 2),\n",
    "        \"pval_vs_control_total\": round(pval3, 2)\n",
    "    })\n",
    "    \n",
    "    return resultados"
   ]
  },
  {
   "cell_type": "code",
   "execution_count": 23,
   "metadata": {},
   "outputs": [
    {
     "name": "stdout",
     "output_type": "stream",
     "text": [
      "                    evento  proporcion_246  proporcion_247  proporcion_248  \\\n",
      "0                 Tutorial            0.11            0.11            0.11   \n",
      "1         MainScreenAppear            0.99            0.99            0.98   \n",
      "2       OffersScreenAppear            0.62            0.60            0.60   \n",
      "3         CartScreenAppear            0.51            0.49            0.48   \n",
      "4  PaymentScreenSuccessful            0.48            0.46            0.47   \n",
      "\n",
      "   pval_vs_246  pval_vs_247  pval_vs_control_total  \n",
      "0         0.83         0.77                   0.76  \n",
      "1         0.29         0.46                   0.29  \n",
      "2         0.21         0.92                   0.43  \n",
      "3         0.08         0.58                   0.18  \n",
      "4         0.21         0.74                   0.60  \n"
     ]
    }
   ],
   "source": [
    "# Run the analysis for all events\n",
    "resultados_test = []\n",
    "for e in events['event_name'].unique():\n",
    "    resultados_test.extend(comparison_test_vs_control(e, events))\n",
    "\n",
    "df_test = pd.DataFrame(resultados_test)\n",
    "print(df_test)"
   ]
  },
  {
   "cell_type": "markdown",
   "metadata": {},
   "source": [
    "**Conclusions:**  \n",
    "\n",
    "The test group (248) shows **no significant differences** compared to the control groups across any of the main events (MainScreen, Offers, Cart, Payment).  \n",
    "\n",
    "The only slight indication of a difference appears in **CartScreenAppear**, where the test group shows a slightly lower proportion (0.48 vs. 0.51 in control 246).  \n",
    "However, the p-value (0.08) is not low enough to be considered statistically significant at a standard 95% confidence level.  \n",
    "\n",
    "Overall, we can conclude that the **font variation (group 248)** did **not have a statistically significant impact** on user behavior.\n",
    "\n",
    "## 5.5 Significance Levels"
   ]
  },
  {
   "cell_type": "code",
   "execution_count": 24,
   "metadata": {},
   "outputs": [
    {
     "name": "stdout",
     "output_type": "stream",
     "text": [
      "Number of tests performed: 15\n",
      "Standard significance level (alpha): 0.05\n",
      "With alpha = 0.1, expected false positives: 1.5\n",
      "Bonferroni-adjusted alpha: 0.0033\n"
     ]
    }
   ],
   "source": [
    "import math\n",
    "\n",
    "# Declare the number of events analyzed  \n",
    "num_events = 5\n",
    "\n",
    "# Declare the number of comparisons per event \n",
    "comparisons_by_event = 3\n",
    "\n",
    "# Calculate the total number of tests performed\n",
    "total_test = num_events * comparisons_by_event\n",
    "\n",
    "# Define the standard significance level\n",
    "alpha_default = 0.05\n",
    "\n",
    "# Significance level test \n",
    "alpha_test = 0.1\n",
    "false_positive = total_test * alpha_test\n",
    "\n",
    "# Apply the Bonferroni correction\n",
    "alpha_bonferroni = alpha_default / total_test\n",
    "\n",
    "print(\"Number of tests performed:\", total_test)  \n",
    "print(\"Standard significance level (alpha):\", alpha_default)  \n",
    "print(\"With alpha = 0.1, expected false positives:\", false_positive)  \n",
    "print(\"Bonferroni-adjusted alpha:\", round(alpha_bonferroni, 4))"
   ]
  },
  {
   "cell_type": "markdown",
   "metadata": {},
   "source": [
    "**Conclusions:**  \n",
    "\n",
    "When reviewing the obtained p-values (all ≥ 0.08), even with α = 0.1 there is no statistical significance, except for the weak signal in **CartScreenAppear (p = 0.08)**.  \n",
    "\n",
    "With α = 0.05, that difference would no longer be significant.  \n",
    "With the adjusted α (0.0033), even less so.  \n",
    "\n",
    "In other words, the conclusions remain unchanged — there are **no significant differences between the groups**.  \n",
    "\n",
    "The most reasonable approach is to maintain **α = 0.05**.  \n",
    "Under any of these significance thresholds, the results remain consistent: there is **no evidence that the font variation had any impact on user behavior**."
   ]
  }
 ],
 "metadata": {
  "ExecuteTimeLog": [
   {
    "duration": 488,
    "start_time": "2025-10-14T21:24:27.119Z"
   },
   {
    "duration": 20,
    "start_time": "2025-10-14T21:24:28.008Z"
   },
   {
    "duration": 25,
    "start_time": "2025-10-14T21:24:28.822Z"
   },
   {
    "duration": 12,
    "start_time": "2025-10-14T21:24:29.606Z"
   },
   {
    "duration": 48,
    "start_time": "2025-10-14T21:24:30.514Z"
   },
   {
    "duration": 39,
    "start_time": "2025-10-14T21:24:31.354Z"
   },
   {
    "duration": 8,
    "start_time": "2025-10-14T21:24:32.376Z"
   },
   {
    "duration": 3,
    "start_time": "2025-10-14T21:24:33.282Z"
   },
   {
    "duration": 2402,
    "start_time": "2025-10-14T21:24:34.199Z"
   },
   {
    "duration": 312,
    "start_time": "2025-10-14T21:24:36.603Z"
   },
   {
    "duration": 62,
    "start_time": "2025-10-14T21:24:38.546Z"
   },
   {
    "duration": 10,
    "start_time": "2025-10-14T21:24:38.815Z"
   },
   {
    "duration": 22,
    "start_time": "2025-10-14T21:24:40.156Z"
   },
   {
    "duration": 6,
    "start_time": "2025-10-14T21:24:41.025Z"
   },
   {
    "duration": 40,
    "start_time": "2025-10-14T21:24:41.902Z"
   },
   {
    "duration": 41,
    "start_time": "2025-10-14T21:24:42.409Z"
   },
   {
    "duration": 4,
    "start_time": "2025-10-14T21:24:42.785Z"
   },
   {
    "duration": 3,
    "start_time": "2025-10-14T21:24:43.536Z"
   },
   {
    "duration": 304,
    "start_time": "2025-10-14T21:24:44.134Z"
   },
   {
    "duration": 25,
    "start_time": "2025-10-14T21:24:45.284Z"
   },
   {
    "duration": 179,
    "start_time": "2025-10-14T21:24:45.721Z"
   },
   {
    "duration": 16,
    "start_time": "2025-10-14T21:24:46.631Z"
   },
   {
    "duration": 380,
    "start_time": "2025-10-14T21:24:47.133Z"
   },
   {
    "duration": 4,
    "start_time": "2025-10-14T21:24:48.214Z"
   }
  ],
  "kernelspec": {
   "display_name": "Python 3 (ipykernel)",
   "language": "python",
   "name": "python3"
  },
  "language_info": {
   "codemirror_mode": {
    "name": "ipython",
    "version": 3
   },
   "file_extension": ".py",
   "mimetype": "text/x-python",
   "name": "python",
   "nbconvert_exporter": "python",
   "pygments_lexer": "ipython3",
   "version": "3.9.19"
  },
  "toc": {
   "base_numbering": 1,
   "nav_menu": {},
   "number_sections": true,
   "sideBar": true,
   "skip_h1_title": true,
   "title_cell": "Table of Contents",
   "title_sidebar": "Contents",
   "toc_cell": false,
   "toc_position": {},
   "toc_section_display": true,
   "toc_window_display": false
  }
 },
 "nbformat": 4,
 "nbformat_minor": 4
}
